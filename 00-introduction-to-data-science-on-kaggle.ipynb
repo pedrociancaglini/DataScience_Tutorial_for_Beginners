{
 "cells": [
  {
   "attachments": {
    "ad02441e-26ab-4d5c-a4fd-2e9cf1b01bd0.png": {
     "image/png": "[encoded data removed]"
    }
   },
   "cell_type": "markdown",
   "id": "ca5ea9ca",
   "metadata": {
    "papermill": {
     "duration": 0.003368,
     "end_time": "2024-01-24T23:36:17.581415",
     "exception": false,
     "start_time": "2024-01-24T23:36:17.578047",
     "status": "completed"
    },
    "tags": []
   },
   "source": [
    "**Notebook 0 - Introduction to Data Science with Kaggle**\n",
    "\n",
    "Introduction to Data Science using Kaggle Platform and Python\n",
    "I would like to share with you what in my opinion, were the steps to become a Data Science Beginner. \n",
    "Now with lot of experience in the field, after 8 years of work, being a beginner helped me a lot to ignite \n",
    "my career in Data. \n",
    "\n",
    "I will share a series of Notebooks explained and then some practical examples you can use to hands-on the experience. \n",
    "I will order the notebooks using numbers, being [00] the basics, and then numbers will increase until [12] with pure learning. \n",
    "Then I will include some notebooks with the number [99] that are going to be hands-on notebooks you can use to experiment with \n",
    "your own datasets. \n",
    "\n",
    "I recommend to take some basic Python lessons first to capture the entire experience. \n",
    "\n",
    "Enjoy!\n",
    "\n",
    "This notebook was created with 🧡 by Pedro Ciancaglini for Beginners who would like to be Data Scientist in the future.\n",
    "\n",
    "![image.png](attachment:ad02441e-26ab-4d5c-a4fd-2e9cf1b01bd0.png)"
   ]
  },
  {
   "cell_type": "code",
   "execution_count": 1,
   "id": "bef0472a",
   "metadata": {
    "_cell_guid": "b1076dfc-b9ad-4769-8c92-a6c4dae69d19",
    "_uuid": "8f2839f25d086af736a60e9eeb907d3b93b6e0e5",
    "execution": {
     "iopub.execute_input": "2024-01-24T23:36:17.589192Z",
     "iopub.status.busy": "2024-01-24T23:36:17.588655Z",
     "iopub.status.idle": "2024-01-24T23:36:17.592808Z",
     "shell.execute_reply": "2024-01-24T23:36:17.592018Z"
    },
    "papermill": {
     "duration": 0.01004,
     "end_time": "2024-01-24T23:36:17.594497",
     "exception": false,
     "start_time": "2024-01-24T23:36:17.584457",
     "status": "completed"
    },
    "tags": []
   },
   "outputs": [],
   "source": [
    "# This is important, you will always see this in every notebook you will open in Kaggle. \n",
    "# This is a default Kaggle Header which contains couple of python instructions to run this notebook.  "
   ]
  },
  {
   "cell_type": "code",
   "execution_count": 2,
   "id": "5f2b901d",
   "metadata": {
    "_cell_guid": "b1076dfc-b9ad-4769-8c92-a6c4dae69d19",
    "_uuid": "8f2839f25d086af736a60e9eeb907d3b93b6e0e5",
    "execution": {
     "iopub.execute_input": "2024-01-24T23:36:17.601271Z",
     "iopub.status.busy": "2024-01-24T23:36:17.601037Z",
     "iopub.status.idle": "2024-01-24T23:36:17.897131Z",
     "shell.execute_reply": "2024-01-24T23:36:17.896184Z"
    },
    "papermill": {
     "duration": 0.301892,
     "end_time": "2024-01-24T23:36:17.899392",
     "exception": false,
     "start_time": "2024-01-24T23:36:17.597500",
     "status": "completed"
    },
    "tags": []
   },
   "outputs": [],
   "source": [
    "# This Python 3 environment comes with many helpful analytics libraries installed\n",
    "# It is defined by the kaggle/python Docker image: https://github.com/kaggle/docker-python\n",
    "# For example, here's several helpful packages to load\n",
    "\n",
    "import numpy as np # linear algebra\n",
    "import pandas as pd # data processing, CSV file I/O (e.g. pd.read_csv)\n",
    "\n",
    "# Input data files are available in the read-only \"../input/\" directory\n",
    "# For example, running this (by clicking run or pressing Shift+Enter) will list all files under the input directory\n",
    "\n",
    "import os\n",
    "for dirname, _, filenames in os.walk('/kaggle/input'):\n",
    "    for filename in filenames:\n",
    "        print(os.path.join(dirname, filename))\n",
    "\n",
    "# You can write up to 20GB to the current directory (/kaggle/working/) that gets preserved as output when you create a version using \"Save & Run All\" \n",
    "# You can also write temporary files to /kaggle/temp/, but they won't be saved outside of the current session"
   ]
  },
  {
   "cell_type": "code",
   "execution_count": 3,
   "id": "24fde16f",
   "metadata": {
    "_cell_guid": "b1076dfc-b9ad-4769-8c92-a6c4dae69d19",
    "_uuid": "8f2839f25d086af736a60e9eeb907d3b93b6e0e5",
    "execution": {
     "iopub.execute_input": "2024-01-24T23:36:17.907972Z",
     "iopub.status.busy": "2024-01-24T23:36:17.907479Z",
     "iopub.status.idle": "2024-01-24T23:36:18.893908Z",
     "shell.execute_reply": "2024-01-24T23:36:18.893290Z"
    },
    "papermill": {
     "duration": 0.99319,
     "end_time": "2024-01-24T23:36:18.895647",
     "exception": false,
     "start_time": "2024-01-24T23:36:17.902457",
     "status": "completed"
    },
    "tags": []
   },
   "outputs": [
    {
     "name": "stdout",
     "output_type": "stream",
     "text": [
      "Welcome to Notebook 1: Introduction to Data Science on Kaggle!\n"
     ]
    }
   ],
   "source": [
    "# Notebook 1: Introduction to Data Science on Kaggle\n",
    "\n",
    "# Import necessary libraries\n",
    "# import pandas as pd - We are not importing this library because is already imported by Kaggle in the previous cell. \n",
    "# import numpy as np - We are not importing this library because is already imported by Kaggle in the previous cell.\n",
    "\n",
    "# This is the foundation of Data Visualization using Python. \n",
    "# This Library is one of the most powerful and most used Visualization Library\n",
    "import matplotlib.pyplot as plt  \n",
    "\n",
    "# seaborn is another visualization and calculation library, built using the bases of matplotlib\n",
    "import seaborn as sns\n",
    "\n",
    "# Print a welcome message\n",
    "print(\"Welcome to Notebook 1: Introduction to Data Science on Kaggle!\")"
   ]
  },
  {
   "cell_type": "code",
   "execution_count": 4,
   "id": "7d363218",
   "metadata": {
    "_cell_guid": "b1076dfc-b9ad-4769-8c92-a6c4dae69d19",
    "_uuid": "8f2839f25d086af736a60e9eeb907d3b93b6e0e5",
    "execution": {
     "iopub.execute_input": "2024-01-24T23:36:18.903402Z",
     "iopub.status.busy": "2024-01-24T23:36:18.902520Z",
     "iopub.status.idle": "2024-01-24T23:36:18.907342Z",
     "shell.execute_reply": "2024-01-24T23:36:18.906477Z"
    },
    "papermill": {
     "duration": 0.010236,
     "end_time": "2024-01-24T23:36:18.909090",
     "exception": false,
     "start_time": "2024-01-24T23:36:18.898854",
     "status": "completed"
    },
    "tags": []
   },
   "outputs": [],
   "source": [
    "# Section 1: Setting Up Your Kaggle Environment\n",
    "\n",
    "# It is important that you get familiarized with Kaggle. It is the platform we are going to use.\n",
    "# The reason we will use Kaggle is because is it super friendly for beginners, and \n",
    "# you will find tons of datasets, notebooks, models, and other resources to learn. \n",
    "\n",
    "## Kaggle Environment Overview:\n",
    "# - Kaggle Kernels: Hosted Jupyter Notebooks. Here is where you will run your code. \n",
    "# - Datasets: Access to a variety of datasets. You can also upload yours.\n",
    "# - Competitions: Participate in data science competitions. \n",
    "#      Competitions are great to test your knowledge and grow comparing with others.\n",
    "# - Community: Kaggle works in a community based environment. \n",
    "#              Share your knowledge and appreciate when someone is sharing, like me in this case :)\n",
    "#              You can reuse code and change it based on your challenge, vote up for notebooks, datasets and models. \n",
    "#              Share your ♥ with the community. \n",
    "\n",
    "## Using Kaggle Kernels:\n",
    "# - Code, Markdown, and Rich Media support.\n",
    "# - Access to GPU and TPU for deep learning tasks.\n",
    "# - Easy collaboration and sharing."
   ]
  },
  {
   "cell_type": "code",
   "execution_count": 5,
   "id": "17dc2113",
   "metadata": {
    "_cell_guid": "b1076dfc-b9ad-4769-8c92-a6c4dae69d19",
    "_uuid": "8f2839f25d086af736a60e9eeb907d3b93b6e0e5",
    "execution": {
     "iopub.execute_input": "2024-01-24T23:36:18.916926Z",
     "iopub.status.busy": "2024-01-24T23:36:18.916117Z",
     "iopub.status.idle": "2024-01-24T23:36:18.920379Z",
     "shell.execute_reply": "2024-01-24T23:36:18.919805Z"
    },
    "papermill": {
     "duration": 0.009568,
     "end_time": "2024-01-24T23:36:18.921936",
     "exception": false,
     "start_time": "2024-01-24T23:36:18.912368",
     "status": "completed"
    },
    "tags": []
   },
   "outputs": [],
   "source": [
    "# Section 2: Introduction to Jupyter Notebooks\n",
    "\n",
    "## What is a Jupyter Notebook?\n",
    "# - It is an Interactive computing environment, which means that only writing and running the code, you will see the output \n",
    "#   in the next cell. This is great for learning and researching!\n",
    "# - Supports code, text, and multimedia elements: As you can see, I'm writing code, text, icons, and more \n",
    "# - Great for data exploration, analysis, and visualization. This is very versatile. \n",
    "#                                                            You will be able to run and re-run code constantly.\n",
    "\n",
    "## Running Code in Jupyter:\n",
    "# - Use Shift + Enter to run a cell.\n",
    "# - Variables persist across cells."
   ]
  },
  {
   "cell_type": "code",
   "execution_count": 6,
   "id": "56a69121",
   "metadata": {
    "_cell_guid": "b1076dfc-b9ad-4769-8c92-a6c4dae69d19",
    "_uuid": "8f2839f25d086af736a60e9eeb907d3b93b6e0e5",
    "execution": {
     "iopub.execute_input": "2024-01-24T23:36:18.929363Z",
     "iopub.status.busy": "2024-01-24T23:36:18.928540Z",
     "iopub.status.idle": "2024-01-24T23:36:18.934685Z",
     "shell.execute_reply": "2024-01-24T23:36:18.933492Z"
    },
    "papermill": {
     "duration": 0.011623,
     "end_time": "2024-01-24T23:36:18.936484",
     "exception": false,
     "start_time": "2024-01-24T23:36:18.924861",
     "status": "completed"
    },
    "tags": []
   },
   "outputs": [
    {
     "name": "stdout",
     "output_type": "stream",
     "text": [
      "The sum of 5 and 10 is 15\n"
     ]
    }
   ],
   "source": [
    "# Let's start with a simple Example: Calculating the sum of two numbers\n",
    "# Python is a powerful language, and sometimes, it taks a simple approach. \n",
    "# I would like to show you here how simple you can operate two numbers. \n",
    "# Remember, a basic python course in Youtube or Kaggle will help you a lot to better understand everything here. \n",
    "# https://www.kaggle.com/learn/intro-to-programming you will find a complete course of programming in Python\n",
    "a = 5\n",
    "b = 10\n",
    "sum_result = a + b\n",
    "print(f\"The sum of {a} and {b} is {sum_result}\")"
   ]
  },
  {
   "cell_type": "code",
   "execution_count": 7,
   "id": "82d337f3",
   "metadata": {
    "_cell_guid": "b1076dfc-b9ad-4769-8c92-a6c4dae69d19",
    "_uuid": "8f2839f25d086af736a60e9eeb907d3b93b6e0e5",
    "execution": {
     "iopub.execute_input": "2024-01-24T23:36:18.944173Z",
     "iopub.status.busy": "2024-01-24T23:36:18.943949Z",
     "iopub.status.idle": "2024-01-24T23:36:19.417351Z",
     "shell.execute_reply": "2024-01-24T23:36:19.416323Z"
    },
    "papermill": {
     "duration": 0.479405,
     "end_time": "2024-01-24T23:36:19.419241",
     "exception": false,
     "start_time": "2024-01-24T23:36:18.939836",
     "status": "completed"
    },
    "tags": []
   },
   "outputs": [
    {
     "name": "stdout",
     "output_type": "stream",
     "text": [
      "DataFrame created with Pandas:\n",
      "      Name  Age           City\n",
      "0    Alice   25       New York\n",
      "1      Bob   30  San Francisco\n",
      "2  Charlie   35    Los Angeles\n",
      "NumPy Array:\n",
      "[1 2 3 4 5]\n"
     ]
    },
    {
     "data": {
      "image/png": "[encoded data removed]",
      "text/plain": [
       "<Figure size 640x480 with 1 Axes>"
      ]
     },
     "metadata": {},
     "output_type": "display_data"
    },
    {
     "data": {
      "image/png": "[encoded data removed]",
      "text/plain": [
       "<Figure size 640x480 with 1 Axes>"
      ]
     },
     "metadata": {},
     "output_type": "display_data"
    }
   ],
   "source": [
    "# Section 3: Introduction to Python for Data Science\n",
    "# Python is a great language for Data Science. There are many languages, \n",
    "# However, Python is usually the most popular one (Many will disagree 😁)\n",
    "\n",
    "## Key Python Libraries:\n",
    "# - Pandas: This library is great for Data manipulation and analysis. You will see how versatile it is. \n",
    "# - NumPy: This is a library for all Numerical operations.\n",
    "# - Matplotlib and Seaborn: These are the most common Data visualization libraries. Actually, Matplotlib is the foundation.\n",
    "\n",
    "## Example: Let's create a simple DataFrame with Pandas\n",
    "data = {'Name': ['Alice', 'Bob', 'Charlie'],\n",
    "        'Age': [25, 30, 35],\n",
    "        'City': ['New York', 'San Francisco', 'Los Angeles']}\n",
    "df = pd.DataFrame(data)\n",
    "print(\"DataFrame created with Pandas:\")\n",
    "print(df)\n",
    "\n",
    "## Example: Let's create a NumPy Array\n",
    "numpy_array = np.array([1, 2, 3, 4, 5])\n",
    "print(\"NumPy Array:\")\n",
    "print(numpy_array)\n",
    "\n",
    "## Example: Let's create a Simple Plot with Matplotlib\n",
    "plt.plot([1, 2, 3, 4, 5], [2, 4, 6, 8, 10])\n",
    "plt.title(\"Simple Plot with Matplotlib\")\n",
    "plt.xlabel(\"X-axis\")\n",
    "plt.ylabel(\"Y-axis\")\n",
    "plt.show()\n",
    "\n",
    "## Example: Now we will create a Seaborn Scatter Plot\n",
    "sns.scatterplot(x='Age', y='City', data=df)\n",
    "plt.title(\"Scatter Plot with Seaborn\")\n",
    "plt.show()"
   ]
  },
  {
   "cell_type": "code",
   "execution_count": 8,
   "id": "464929a1",
   "metadata": {
    "_cell_guid": "b1076dfc-b9ad-4769-8c92-a6c4dae69d19",
    "_uuid": "8f2839f25d086af736a60e9eeb907d3b93b6e0e5",
    "execution": {
     "iopub.execute_input": "2024-01-24T23:36:19.428236Z",
     "iopub.status.busy": "2024-01-24T23:36:19.427975Z",
     "iopub.status.idle": "2024-01-24T23:36:19.433236Z",
     "shell.execute_reply": "2024-01-24T23:36:19.432465Z"
    },
    "papermill": {
     "duration": 0.011807,
     "end_time": "2024-01-24T23:36:19.435194",
     "exception": false,
     "start_time": "2024-01-24T23:36:19.423387",
     "status": "completed"
    },
    "tags": []
   },
   "outputs": [
    {
     "name": "stdout",
     "output_type": "stream",
     "text": [
      "Your Kaggle Project:\n",
      "1. Sign up on Kaggle: https://www.kaggle.com/account/register\n",
      "2. Explore Kaggle Kernels and Datasets like this tutorial series.\n",
      "3. Try running this notebook on Kaggle.\n",
      "4. Up Vote, Comment, Copy, Edit and Run this notebook.\n",
      "5. Try adding your secret souce to the notebook and share it with others.\n",
      "6. In the comment section of this notebook, share with others your notebook.\n",
      "6.1. Now you are part of the community, so Sharing and appreciating is really important for all.\n",
      "7. Join data science competition\n"
     ]
    }
   ],
   "source": [
    "# Section 4: Kaggle Project\n",
    "print(\"Your Kaggle Project:\")\n",
    "print(\"1. Sign up on Kaggle: https://www.kaggle.com/account/register\")\n",
    "print(\"2. Explore Kaggle Kernels and Datasets like this tutorial series.\")\n",
    "print(\"3. Try running this notebook on Kaggle.\")\n",
    "print(\"4. Up Vote, Comment, Copy, Edit and Run this notebook.\")\n",
    "print(\"5. Try adding your secret souce to the notebook and share it with others.\")\n",
    "print(\"6. In the comment section of this notebook, share with others your notebook.\")\n",
    "print(\"6.1. Now you are part of the community, so Sharing and appreciating is really important for all.\")\n",
    "print(\"7. Join data science competition\")"
   ]
  }
 ],
 "metadata": {
  "kaggle": {
   "accelerator": "none",
   "dataSources": [],
   "dockerImageVersionId": 30635,
   "isGpuEnabled": false,
   "isInternetEnabled": true,
   "language": "python",
   "sourceType": "notebook"
  },
  "kernelspec": {
   "display_name": "Python 3",
   "language": "python",
   "name": "python3"
  },
  "language_info": {
   "codemirror_mode": {
    "name": "ipython",
    "version": 3
   },
   "file_extension": ".py",
   "mimetype": "text/x-python",
   "name": "python",
   "nbconvert_exporter": "python",
   "pygments_lexer": "ipython3",
   "version": "3.10.12"
  },
  "papermill": {
   "default_parameters": {},
   "duration": 4.636806,
   "end_time": "2024-01-24T23:36:19.856593",
   "environment_variables": {},
   "exception": null,
   "input_path": "__notebook__.ipynb",
   "output_path": "__notebook__.ipynb",
   "parameters": {},
   "start_time": "2024-01-24T23:36:15.219787",
   "version": "2.4.0"
  }
 },
 "nbformat": 4,
 "nbformat_minor": 5
}
